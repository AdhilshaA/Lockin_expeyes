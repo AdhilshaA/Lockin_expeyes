{
 "cells": [
  {
   "cell_type": "code",
   "execution_count": 1,
   "metadata": {},
   "outputs": [],
   "source": [
    "# creating dialog boxes with tkinter\n",
    "import tkinter as tk\n"
   ]
  },
  {
   "cell_type": "code",
   "execution_count": 3,
   "metadata": {},
   "outputs": [],
   "source": [
    "# simple dialog box\n",
    "def dialog():\n",
    "    win = tk.Toplevel()\n",
    "    win.title('Dialog Box')\n",
    "    win.geometry('200x100')\n",
    "    win.resizable(0, 0)\n",
    "    tk.Label(win, text='Dialog Box').pack()\n",
    "    tk.Button(win, text='OK', command=win.destroy).pack()\n",
    "    win.focus_set()\n",
    "    win.grab_set()\n",
    "    win.wait_window()\n",
    "\n",
    "# test the dialog box\n",
    "root = tk.Tk()\n",
    "root.geometry('200x100')\n",
    "root.title('Dialog Box Test')\n",
    "root.resizable(0, 0)\n",
    "tk.Button(root, text='Open Dialog', command=dialog).pack()\n",
    "root.mainloop()\n",
    "\n",
    "# creating a custom dialog box\n",
    "\n"
   ]
  },
  {
   "cell_type": "code",
   "execution_count": null,
   "metadata": {},
   "outputs": [],
   "source": []
  }
 ],
 "metadata": {
  "kernelspec": {
   "display_name": ".venv",
   "language": "python",
   "name": "python3"
  },
  "language_info": {
   "codemirror_mode": {
    "name": "ipython",
    "version": 3
   },
   "file_extension": ".py",
   "mimetype": "text/x-python",
   "name": "python",
   "nbconvert_exporter": "python",
   "pygments_lexer": "ipython3",
   "version": "3.11.7"
  }
 },
 "nbformat": 4,
 "nbformat_minor": 2
}
