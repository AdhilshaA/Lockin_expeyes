{
 "cells": [
  {
   "cell_type": "code",
   "execution_count": 1,
   "metadata": {},
   "outputs": [],
   "source": [
    "# import libraries\n",
    "\n",
    "import eyes17.eyes\n",
    "import numpy as np\n",
    "import math as m\n",
    "import time\n",
    "import matplotlib.pyplot as plt\n",
    "from scipy.fft import fft, ifft,fftfreq, fftshift"
   ]
  },
  {
   "cell_type": "code",
   "execution_count": 2,
   "metadata": {},
   "outputs": [],
   "source": [
    "f=30 #Hz\n",
    "amp = 2 # 1=> 1V 2=> 3V\n",
    "N_sample = 8192 # 2^13 samples- advantageous for FFT\n",
    "N_div=1024\n",
    "t_gap = (1/(f*N_div))*10**6 # micro seconds"
   ]
  },
  {
   "cell_type": "code",
   "execution_count": 3,
   "metadata": {},
   "outputs": [
    {
     "name": "stdout",
     "output_type": "stream",
     "text": [
      "f = 30 Hz\n",
      "amp = 2 V\n",
      "N_sample = 8192\n",
      "N_div = 1024\n",
      "t_gap = 32.552083333333336 us\n"
     ]
    }
   ],
   "source": [
    "print(f\"f = {f} Hz\")\n",
    "print(f\"amp = {amp} V\")\n",
    "print(f\"N_sample = {N_sample}\")\n",
    "print(f\"N_div = {N_div}\")\n",
    "print(f\"t_gap = {t_gap} us\")"
   ]
  },
  {
   "cell_type": "code",
   "execution_count": 4,
   "metadata": {},
   "outputs": [
    {
     "name": "stdout",
     "output_type": "stream",
     "text": [
      "W###################-------------\n"
     ]
    }
   ],
   "source": [
    "p=eyes17.eyes.open()"
   ]
  },
  {
   "cell_type": "code",
   "execution_count": 9,
   "metadata": {},
   "outputs": [
    {
     "data": {
      "image/png": "[encoded data removed]",
      "text/plain": [
       "<Figure size 640x480 with 1 Axes>"
      ]
     },
     "metadata": {},
     "output_type": "display_data"
    }
   ],
   "source": [
    "\n",
    "\n",
    "t1,v1 = p.capture1('A1',N_sample,t_gap) # Captured input signal\n",
    "t1 = np.array(t1)\n",
    "v1 = np.array(v1)\n",
    "plt.plot(v1[:2*N_div])\n",
    "plt.show()\n",
    "# t1,v1,t2,v2 = p.capture2(N_sample,500) # Captured input signal"
   ]
  },
  {
   "cell_type": "code",
   "execution_count": 46,
   "metadata": {},
   "outputs": [
    {
     "name": "stdout",
     "output_type": "stream",
     "text": [
      "Expeyes can only measure voltage in steps of 0.008 V\n"
     ]
    }
   ],
   "source": [
    "voltage_step = 0.04 / 5\n",
    "\n",
    "print(f\"Expeyes can only measure voltage in steps of {voltage_step} V\")"
   ]
  }
 ],
 "metadata": {
  "kernelspec": {
   "display_name": ".venv",
   "language": "python",
   "name": "python3"
  },
  "language_info": {
   "codemirror_mode": {
    "name": "ipython",
    "version": 3
   },
   "file_extension": ".py",
   "mimetype": "text/x-python",
   "name": "python",
   "nbconvert_exporter": "python",
   "pygments_lexer": "ipython3",
   "version": "3.11.8"
  }
 },
 "nbformat": 4,
 "nbformat_minor": 2
}
